import numpy as np
import cv2
import os
import random
import matplotlib.pyplot as plt
import pickle
DIRECTORY = r'C:/Users/TEJAS/Python/Wildlife/train'
CATEGORIES = ['Bear','Cheetah','Leopard','Lion','Zebra']
for category in CATEGORIES:
    folder = os.path.join(DIRECTORY,category)
    print(folder)
for category in CATEGORIES:
    folder = os.path.join(DIRECTORY,category)
    for img in os.listdir(folder):
        img_path = os.path.join(folder,img)
        print(img_path)
        break
IMG_SIZE = 224
for category in CATEGORIES:
    folder = os.path.join(DIRECTORY,category)
    pics = os.listdir(folder)
    img = random.choice(pics)
    img_path = os.path.join(folder,img)
    frame = cv2.imread(img_path)
    frame = cv2.resize(frame, (IMG_SIZE,IMG_SIZE))
    plt.imshow(frame)
    break

IMG_SIZE = 224

data = []

for category in CATEGORIES:
    folder = os.path.join(DIRECTORY,category)
    label = CATEGORIES.index(category)
    for img in os.listdir(folder):
        img_path = os.path.join(folder,img)
        img_arr = cv2.imread(img_path)
        frame = cv2.resize(img_arr,(IMG_SIZE,IMG_SIZE))
        data.append([frame, label])

len(data)
random.shuffle(data)
data[0]
X = []
Y = []

X = np.array([item[0] for item in data])
Y = np.array([item[1] for item in data])

# X = X.reshape((-1, 224, 224, 3))


# for elem in X:
#     print(elem.shape)

# for elem in X:
#     print(type(elem))
X[0].shape
len(X)
len(Y)

X.shape
Y.shape
pickle.dump(X,open('X.pk1', 'wb'))
pickle.dump(Y,open('Y.pk1', 'wb'))

IMG_SIZE = 224

data = []


folder = ""

for img in os.listdir(folder):
    img_path = os.path.join(folder,img)
    img_arr = cv2.imread(img_path)
    frame = cv2.resize(img_arr,(IMG_SIZE,IMG_SIZE))
    data.append([frame, img])
